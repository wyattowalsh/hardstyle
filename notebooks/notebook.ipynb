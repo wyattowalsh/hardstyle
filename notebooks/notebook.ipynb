{
 "cells": [
  {
   "cell_type": "code",
   "execution_count": 17,
   "metadata": {},
   "outputs": [
    {
     "data": {
      "text/plain": [
       "True"
      ]
     },
     "execution_count": 17,
     "metadata": {},
     "output_type": "execute_result"
    }
   ],
   "source": [
    "import discogs_client\n",
    "import os\n",
    "from loguru import logger\n",
    "from tqdm import tqdm\n",
    "\n",
    "from dotenv import load_dotenv\n",
    "\n",
    "load_dotenv(\"../.env\")"
   ]
  },
  {
   "cell_type": "code",
   "execution_count": 20,
   "metadata": {},
   "outputs": [],
   "source": [
    "d = discogs_client.Client('my_user_agent/1.0',\n",
    "                          user_token=os.getenv('DISCOGS_TOKEN'))"
   ]
  },
  {
   "cell_type": "code",
   "execution_count": 21,
   "metadata": {},
   "outputs": [
    {
     "name": "stdout",
     "output_type": "stream",
     "text": [
      "total pages: 9\n"
     ]
    }
   ],
   "source": [
    "# get any and all available data/info/metadata for everything associated with the style `hardstyle`\n",
    "\n",
    "# get all releases associated with the style `hardstyle`\n",
    "releases = d.search(q='style:hardstyle', type='release')\n",
    "print(f'total pages: {releases.pages}')\n",
    "# # get all artists associated with the style `hardstyle`\n",
    "# artists = d.search(q='style:hardstyle', type='artist')\n",
    "\n",
    "# # get all labels associated with the style `hardstyle`\n",
    "# labels = d.search(q='style:hardstyle', type='label')\n",
    "\n",
    "# # get all tracks associated with the style `hardstyle`\n",
    "# tracks = d.search(q='style:hardstyle', type='track')\n"
   ]
  },
  {
   "cell_type": "code",
   "execution_count": 22,
   "metadata": {},
   "outputs": [
    {
     "data": {
      "text/plain": [
       "['__class__',\n",
       " '__delattr__',\n",
       " '__dict__',\n",
       " '__dir__',\n",
       " '__doc__',\n",
       " '__eq__',\n",
       " '__firstlineno__',\n",
       " '__format__',\n",
       " '__ge__',\n",
       " '__getattribute__',\n",
       " '__getitem__',\n",
       " '__getstate__',\n",
       " '__gt__',\n",
       " '__hash__',\n",
       " '__init__',\n",
       " '__init_subclass__',\n",
       " '__iter__',\n",
       " '__le__',\n",
       " '__len__',\n",
       " '__lt__',\n",
       " '__module__',\n",
       " '__ne__',\n",
       " '__new__',\n",
       " '__reduce__',\n",
       " '__reduce_ex__',\n",
       " '__repr__',\n",
       " '__setattr__',\n",
       " '__sizeof__',\n",
       " '__static_attributes__',\n",
       " '__str__',\n",
       " '__subclasshook__',\n",
       " '__weakref__',\n",
       " '_filters',\n",
       " '_invalidate',\n",
       " '_list_key',\n",
       " '_load_pagination_info',\n",
       " '_num_items',\n",
       " '_num_pages',\n",
       " '_pages',\n",
       " '_per_page',\n",
       " '_sort_key',\n",
       " '_sort_order',\n",
       " '_transform',\n",
       " '_url_for_page',\n",
       " 'client',\n",
       " 'count',\n",
       " 'filter',\n",
       " 'page',\n",
       " 'pages',\n",
       " 'per_page',\n",
       " 'sort',\n",
       " 'url']"
      ]
     },
     "execution_count": 22,
     "metadata": {},
     "output_type": "execute_result"
    }
   ],
   "source": [
    "dir(releases)"
   ]
  },
  {
   "cell_type": "code",
   "execution_count": 27,
   "metadata": {},
   "outputs": [],
   "source": [
    "for release in releases.page(0):\n",
    "    break"
   ]
  },
  {
   "cell_type": "code",
   "execution_count": 28,
   "metadata": {},
   "outputs": [
    {
     "data": {
      "text/plain": [
       "['__class__',\n",
       " '__delattr__',\n",
       " '__dict__',\n",
       " '__dir__',\n",
       " '__doc__',\n",
       " '__eq__',\n",
       " '__firstlineno__',\n",
       " '__format__',\n",
       " '__ge__',\n",
       " '__getattribute__',\n",
       " '__getstate__',\n",
       " '__gt__',\n",
       " '__hash__',\n",
       " '__init__',\n",
       " '__init_subclass__',\n",
       " '__le__',\n",
       " '__lt__',\n",
       " '__module__',\n",
       " '__ne__',\n",
       " '__new__',\n",
       " '__reduce__',\n",
       " '__reduce_ex__',\n",
       " '__repr__',\n",
       " '__setattr__',\n",
       " '__sizeof__',\n",
       " '__static_attributes__',\n",
       " '__str__',\n",
       " '__subclasshook__',\n",
       " '__weakref__',\n",
       " '_known_invalid_keys',\n",
       " 'artists',\n",
       " 'artists_sort',\n",
       " 'changes',\n",
       " 'client',\n",
       " 'community',\n",
       " 'companies',\n",
       " 'country',\n",
       " 'credits',\n",
       " 'data',\n",
       " 'data_quality',\n",
       " 'delete',\n",
       " 'fetch',\n",
       " 'formats',\n",
       " 'genres',\n",
       " 'id',\n",
       " 'images',\n",
       " 'labels',\n",
       " 'marketplace_stats',\n",
       " 'master',\n",
       " 'notes',\n",
       " 'previous_request',\n",
       " 'price_suggestions',\n",
       " 'refresh',\n",
       " 'save',\n",
       " 'status',\n",
       " 'styles',\n",
       " 'thumb',\n",
       " 'title',\n",
       " 'tracklist',\n",
       " 'url',\n",
       " 'videos',\n",
       " 'year']"
      ]
     },
     "execution_count": 28,
     "metadata": {},
     "output_type": "execute_result"
    }
   ],
   "source": [
    "dir(release)"
   ]
  },
  {
   "cell_type": "code",
   "execution_count": 31,
   "metadata": {},
   "outputs": [
    {
     "data": {
      "text/plain": [
       "{'data': {'country': 'Netherlands',\n",
       "  'year': '2003',\n",
       "  'format': ['Vinyl', '12\"', '33 ⅓ RPM', '45 RPM'],\n",
       "  'label': ['Confusion Records',\n",
       "   'Mid-Town Distribution',\n",
       "   'Vip Records Publishing'],\n",
       "  'type': 'release',\n",
       "  'genre': ['Electronic'],\n",
       "  'style': ['Hardstyle'],\n",
       "  'id': 221096,\n",
       "  'barcode': ['CON 006 A1', 'CON 006 B1', 'Buma/Stemra'],\n",
       "  'user_data': {'in_wantlist': False, 'in_collection': False},\n",
       "  'master_id': 0,\n",
       "  'master_url': None,\n",
       "  'uri': '/release/221096-Demolition-D-My-Style-Is-Hardstyle',\n",
       "  'catno': 'CON-006',\n",
       "  'title': 'Demolition D - My Style Is Hardstyle',\n",
       "  'thumb': 'https://i.discogs.com/rpxX_aW6-H1SBt-qeYW7sMaDP7UTQI9KL6gxcGqIXu0/rs:fit/g:sm/q:40/h:150/w:150/czM6Ly9kaXNjb2dz/LWRhdGFiYXNlLWlt/YWdlcy9SLTIyMTA5/Ni0xMDc3NzMzOTE5/LmpwZw.jpeg',\n",
       "  'cover_image': 'https://i.discogs.com/xClpnfAovFY7aJSZflxfkrxHaxqHK_tvlm42l1RaQfQ/rs:fit/g:sm/q:90/h:217/w:220/czM6Ly9kaXNjb2dz/LWRhdGFiYXNlLWlt/YWdlcy9SLTIyMTA5/Ni0xMDc3NzMzOTE5/LmpwZw.jpeg',\n",
       "  'resource_url': 'https://api.discogs.com/releases/221096',\n",
       "  'community': {'want': 41, 'have': 221},\n",
       "  'format_quantity': 1,\n",
       "  'formats': [{'name': 'Vinyl',\n",
       "    'qty': '1',\n",
       "    'descriptions': ['12\"', '33 ⅓ RPM', '45 RPM']}]},\n",
       " 'client': <discogs_client.client.Client at 0x1253aa9e0>,\n",
       " '_known_invalid_keys': [],\n",
       " 'changes': {},\n",
       " 'previous_request': None}"
      ]
     },
     "execution_count": 31,
     "metadata": {},
     "output_type": "execute_result"
    }
   ],
   "source": [
    "release"
   ]
  },
  {
   "cell_type": "code",
   "execution_count": null,
   "metadata": {},
   "outputs": [],
   "source": []
  }
 ],
 "metadata": {
  "kernelspec": {
   "display_name": ".venv",
   "language": "python",
   "name": "python3"
  },
  "language_info": {
   "codemirror_mode": {
    "name": "ipython",
    "version": 3
   },
   "file_extension": ".py",
   "mimetype": "text/x-python",
   "name": "python",
   "nbconvert_exporter": "python",
   "pygments_lexer": "ipython3",
   "version": "3.13.1"
  }
 },
 "nbformat": 4,
 "nbformat_minor": 2
}
